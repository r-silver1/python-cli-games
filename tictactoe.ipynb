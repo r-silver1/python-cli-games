{
 "cells": [
  {
   "cell_type": "code",
   "execution_count": null,
   "metadata": {
    "collapsed": true
   },
   "outputs": [],
   "source": []
  },
  {
   "cell_type": "markdown",
   "source": [
    "___\n",
    "\n",
    "<a href='https://www.udemy.com/user/joseportilla/'><img src='../Pierian_Data_Logo.png'/></a>\n",
    "___\n",
    "<center><em>Content Copyright by Pierian Data</em></center>"
   ],
   "metadata": {
    "collapsed": false
   }
  },
  {
   "cell_type": "markdown",
   "source": [
    "# Milestone Project 1\n",
    "## Congratulations on making it to your first milestone!\n",
    "You've already learned a ton and are ready to work on a real project.\n",
    "\n",
    "Your assignment: Create a Tic Tac Toe game. You are free to use any IDE you like.\n",
    "\n",
    "Here are the requirements:\n",
    "\n",
    "* 2 players should be able to play the game (both sitting at the same computer)\n",
    "* The board should be printed out every time a player makes a move\n",
    "* You should be able to accept input of the player position and then place a symbol on the board\n",
    "\n",
    "Feel free to use Google to help you figure anything out (but don't just Google \"Tic Tac Toe in Python\" otherwise you won't learn anything!) Keep in mind that this project can take anywhere between several hours to several days.\n",
    "\n",
    "There are 4 Jupyter Notebooks related to this assignment:\n",
    "\n",
    "* This Assignment Notebook\n",
    "* A \"Walkthrough Steps Workbook\" Notebook\n",
    "* A \"Complete Walkthrough Solution\" Notebook\n",
    "* An \"Advanced Solution\" Notebook\n",
    "\n",
    "I encourage you to just try to start the project on your own without referencing any of the notebooks. If you get stuck, check out the next lecture which is a text lecture with helpful hints and steps. If you're still stuck after that, then check out the Walkthrough Steps Workbook, which breaks up the project in steps for you to solve. Still stuck? Then check out the Complete Walkthrough Solution video for more help on approaching the project!"
   ],
   "metadata": {
    "collapsed": false
   }
  },
  {
   "cell_type": "code",
   "execution_count": null,
   "outputs": [],
   "source": [
    "gboard = [['.', '.', '.'], ['.', '.', '.'], ['.', '.', '.']]"
   ],
   "metadata": {
    "collapsed": false,
    "pycharm": {
     "name": "#%%\n"
    }
   }
  },
  {
   "cell_type": "markdown",
   "source": [
    "There are parts of this that will be a struggle...and that is good! I have complete faith that if you have made it this far through the course you have all the tools and knowledge to tackle this project. Remember, it's totally open book, so take your time, do a little research, and remember:\n",
    "\n",
    "## HAVE FUN!\n"
   ],
   "metadata": {
    "collapsed": false
   }
  },
  {
   "cell_type": "code",
   "execution_count": null,
   "outputs": [],
   "source": [
    "from IPython.display import clear_output\n",
    "import random"
   ],
   "metadata": {
    "collapsed": false,
    "pycharm": {
     "name": "#%%\n"
    }
   }
  },
  {
   "cell_type": "code",
   "execution_count": null,
   "outputs": [],
   "source": [
    "def print_board():\n",
    "    clear_output()\n",
    "    i = 0\n",
    "    s = \"\"\"\"\"\"\n",
    "    print(f\"{'CURRENT BOARD':^50}\")\n",
    "    s += f\"{'CURRENT BOARD':^50}\\n\"\n",
    "    for b in gboard:\n",
    "        print(f\"{b[0]:^10}|{b[1]:^10}|{b[2]:^10}\")\n",
    "        s += f\"{b[0]:^10}|{b[1]:^10}|{b[2]:^10}\\n\"\n",
    "        if i < 2:\n",
    "            print(\"_\"*30)\n",
    "            s+=\"_\"*30+\"\\n\"\n",
    "            i+=1\n",
    "    return s+\"\\n\\n\"\n",
    "\n",
    "def clear_board():\n",
    "    global gboard\n",
    "    gboard = [['.', '.', '.'], ['.', '.', '.'], ['.', '.', '.']]\n",
    "\n"
   ],
   "metadata": {
    "collapsed": false,
    "pycharm": {
     "name": "#%%\n"
    }
   }
  },
  {
   "cell_type": "code",
   "execution_count": null,
   "outputs": [],
   "source": [
    "class Player:\n",
    "    all_players = []\n",
    "    num_chars = {1: 'X', 2: 'O'}\n",
    "    def __init__(self, number):\n",
    "        if number not in self.num_chars.keys():\n",
    "            raise AttributeError(\"Player number must be 1 or 2\")\n",
    "        else:\n",
    "            self.number = number\n",
    "            self.score = 0\n",
    "            self.moves = 0\n",
    "            Player.all_players.append(self)\n",
    "\n",
    "    @classmethod\n",
    "    def print_scores(cls):\n",
    "        clear_output()\n",
    "        i = 0\n",
    "        s = \"\"\"\"\"\"\n",
    "        print(f\"{'SCORE BOARD':^30}\")\n",
    "        s += f\"{'SCORE BOARD':^30}\\n\"\n",
    "        for p in cls.all_players:\n",
    "            print(f\"Player {p.number:^10}|{p.score:^15}\")\n",
    "            s += f\"Player {p.number:^10}|{p.score:^15}\\n\"\n",
    "            p.moves = 0\n",
    "            print(\"_\"*30)\n",
    "            s+=\"_\"*30+\"\\n\"\n",
    "        return s+\"\\n\\n\"\n",
    "\n",
    "    def charLet(self):\n",
    "        return self.num_chars[self.number]\n",
    "\n",
    "    def makeMove(self):\n",
    "        self.moves += 1\n",
    "        return self.charLet()\n",
    "\n",
    "    def __repr__(self):\n",
    "        return f\"player {self.number}: {self.charLet()}:, moves: {self.moves} score {self.score}\"\n",
    "\n"
   ],
   "metadata": {
    "collapsed": false,
    "pycharm": {
     "name": "#%%\n"
    }
   }
  },
  {
   "cell_type": "code",
   "execution_count": null,
   "outputs": [],
   "source": [
    "import random\n",
    "\n",
    "random.seed()\n",
    "curPlayer = random.randint(1,2)\n",
    "keep_playing = True\n",
    "players = {1: Player(1), 2: Player(2)}\n",
    "ready = False\n",
    "\n",
    "def checkExit(s):\n",
    "    global keep_playing\n",
    "    if s == \"exit\":\n",
    "        keep_playing = False\n",
    "        Player.print_scores()\n",
    "        return False\n",
    "    return True\n",
    "\n",
    "\n",
    "def validateYN(s):\n",
    "    if checkExit(s):\n",
    "        if s in ['Y', 'N']:\n",
    "            return s\n",
    "        else:\n",
    "            return validateYN(input(\"you must only enter Y or N\"))\n",
    "    else:\n",
    "        return \"exit\"\n",
    "\n",
    "def validate_move(s):\n",
    "    if checkExit(s):\n",
    "        msg = print_board() + \"you must enter two digits 1-3 i.e 1 3\"\n",
    "        try:\n",
    "            l = [int(c) for c in s.split(' ')]\n",
    "            if len(l) != 2:\n",
    "                return validate_move(input(msg))\n",
    "            for c in l:\n",
    "                if c not in list(range(1,4)):\n",
    "                    return validate_move(input(msg))\n",
    "            return l\n",
    "        except Exception as e:\n",
    "            return validate_move(input(msg))\n",
    "\n",
    "def startPlay():\n",
    "    '''Tic Tac Toe: Take turns placing X's and O's\n",
    "    If you make a line of 3 continuously you win!\n",
    "    Note: to exit type \"exit\" on input\n",
    "    '''\n",
    "    msg = print_board()+startPlay.__doc__+\"\\nP1 (x) ready? (Y/N)\"\n",
    "    in1 = validateYN(input(msg))\n",
    "    if in1 == \"exit\":\n",
    "        return\n",
    "    while in1 == 'N':\n",
    "        in1 = validateYN(input(\"when ready, type Y\"))\n",
    "    msg = print_board()+\"P2 (x) ready? (Y/N)\"\n",
    "    in2 = validateYN(input(msg))\n",
    "    if in2 == \"exit\":\n",
    "        return\n",
    "    while in2 == 'N':\n",
    "        in2 = validateYN(input(\"when ready, type Y\"))\n",
    "\n",
    "def continue_play():\n",
    "    msg = Player.print_scores() +\"Get ready to face off! (hit enter to continue)\"\n",
    "    input(msg)\n",
    "\n",
    "def switch(c):\n",
    "    if c == 1:\n",
    "        return 2\n",
    "    else:\n",
    "        return 1\n",
    "\n",
    "def move(c, msg):\n",
    "    global gboard\n",
    "\n",
    "    mv = validate_move(input(msg))\n",
    "    if mv:\n",
    "        if gboard[mv[0]-1][mv[1]-1] is not '.':\n",
    "            msg = print_board() + f\"Player {c.number}: invalid move {mv}, occupied square\"\n",
    "            move(c, msg)\n",
    "        else:\n",
    "            gboard[mv[0]-1][mv[1]-1] = c.makeMove()\n",
    "\n",
    "def checkTerminal(curr, plys, b):\n",
    "\n",
    "    w = curr.charLet()*3\n",
    "    for r in b:\n",
    "        if ''.join(r) == w:\n",
    "            win(curr)\n",
    "    for i in range(0,3):\n",
    "        s = \"\"\n",
    "        for j in range(0,3):\n",
    "            s+=b[j][i]\n",
    "        if s == w:\n",
    "            win(curr)\n",
    "    d1 = b[0][0]+b[1][1]+b[2][2]\n",
    "    d2 = b[0][2]+b[1][1]+b[2][0]\n",
    "    if d1 == w or d2 == w:\n",
    "        win(curr)\n",
    "    if plys[1].moves+plys[2].moves >= 9:\n",
    "        draw(plys)\n",
    "\n",
    "def win(c):\n",
    "    c.score+=1\n",
    "    msg = print_board() + f\"Player {c.number} Wins!\\nWant to play again? (Y) or stop? (exit/N)\"\n",
    "    choice = validateYN(input(msg))\n",
    "    clear_board()\n",
    "    if choice == 'Y':\n",
    "        continue_play()\n",
    "    else:\n",
    "        checkExit(\"exit\")\n",
    "\n",
    "def draw(plys):\n",
    "    for k,p in plys.items():\n",
    "        p.score+=.5\n",
    "    msg = print_board() + \"full board, draw! \\nWant to play again? (Y) or stop? (exit/N)\"\n",
    "    choice = validateYN(input(msg))\n",
    "    clear_board()\n",
    "    if choice == 'Y':\n",
    "        continue_play()\n",
    "    else:\n",
    "        checkExit(\"exit\")\n",
    "\n",
    "while keep_playing:\n",
    "    if not ready:\n",
    "        print(startPlay.__doc__)\n",
    "        startPlay()\n",
    "        ready = True\n",
    "    msg = print_board() + f\"Player {players[curPlayer]}: enter row (1-3) and col (1-3) for move, i.e 2 2 for center\"\n",
    "    move(players[curPlayer], msg)\n",
    "    checkTerminal(players[curPlayer], players, gboard)\n",
    "    curPlayer = switch(curPlayer)\n"
   ],
   "metadata": {
    "collapsed": false,
    "pycharm": {
     "name": "#%%\n"
    }
   }
  }
 ],
 "metadata": {
  "kernelspec": {
   "display_name": "Python 3",
   "language": "python",
   "name": "python3"
  },
  "language_info": {
   "codemirror_mode": {
    "name": "ipython",
    "version": 2
   },
   "file_extension": ".py",
   "mimetype": "text/x-python",
   "name": "python",
   "nbconvert_exporter": "python",
   "pygments_lexer": "ipython2",
   "version": "2.7.6"
  }
 },
 "nbformat": 4,
 "nbformat_minor": 0
}